{
 "cells": [
  {
   "cell_type": "markdown",
   "metadata": {},
   "source": [
    "# Regresión logística y descenso del gradiente "
   ]
  },
  {
   "cell_type": "markdown",
   "metadata": {},
   "source": [
    "## Librerías"
   ]
  },
  {
   "cell_type": "code",
   "execution_count": 2,
   "metadata": {},
   "outputs": [],
   "source": [
    "import pandas as pd\n",
    "import numpy as np\n",
    "import matplotlib.pyplot as plt\n",
    "%matplotlib inline\n",
    "import seaborn as sns"
   ]
  },
  {
   "cell_type": "markdown",
   "metadata": {},
   "source": [
    "### Base de datos "
   ]
  },
  {
   "cell_type": "code",
   "execution_count": 3,
   "metadata": {},
   "outputs": [],
   "source": [
    "pathfile1 = '../data/4_1_data.csv'"
   ]
  },
  {
   "cell_type": "code",
   "execution_count": 4,
   "metadata": {
    "scrolled": true
   },
   "outputs": [
    {
     "data": {
      "text/html": [
       "<div>\n",
       "<style scoped>\n",
       "    .dataframe tbody tr th:only-of-type {\n",
       "        vertical-align: middle;\n",
       "    }\n",
       "\n",
       "    .dataframe tbody tr th {\n",
       "        vertical-align: top;\n",
       "    }\n",
       "\n",
       "    .dataframe thead th {\n",
       "        text-align: right;\n",
       "    }\n",
       "</style>\n",
       "<table border=\"1\" class=\"dataframe\">\n",
       "  <thead>\n",
       "    <tr style=\"text-align: right;\">\n",
       "      <th></th>\n",
       "      <th>score-1</th>\n",
       "      <th>score-2</th>\n",
       "      <th>label</th>\n",
       "    </tr>\n",
       "  </thead>\n",
       "  <tbody>\n",
       "    <tr>\n",
       "      <th>0</th>\n",
       "      <td>34.623660</td>\n",
       "      <td>78.024693</td>\n",
       "      <td>0</td>\n",
       "    </tr>\n",
       "    <tr>\n",
       "      <th>1</th>\n",
       "      <td>30.286711</td>\n",
       "      <td>43.894998</td>\n",
       "      <td>0</td>\n",
       "    </tr>\n",
       "    <tr>\n",
       "      <th>2</th>\n",
       "      <td>35.847409</td>\n",
       "      <td>72.902198</td>\n",
       "      <td>0</td>\n",
       "    </tr>\n",
       "    <tr>\n",
       "      <th>3</th>\n",
       "      <td>60.182599</td>\n",
       "      <td>86.308552</td>\n",
       "      <td>1</td>\n",
       "    </tr>\n",
       "    <tr>\n",
       "      <th>4</th>\n",
       "      <td>79.032736</td>\n",
       "      <td>75.344376</td>\n",
       "      <td>1</td>\n",
       "    </tr>\n",
       "  </tbody>\n",
       "</table>\n",
       "</div>"
      ],
      "text/plain": [
       "     score-1    score-2  label\n",
       "0  34.623660  78.024693      0\n",
       "1  30.286711  43.894998      0\n",
       "2  35.847409  72.902198      0\n",
       "3  60.182599  86.308552      1\n",
       "4  79.032736  75.344376      1"
      ]
     },
     "execution_count": 4,
     "metadata": {},
     "output_type": "execute_result"
    }
   ],
   "source": [
    "data = pd.read_csv(pathfile1, delimiter = ',')\n",
    "data.head()"
   ]
  },
  {
   "cell_type": "code",
   "execution_count": 5,
   "metadata": {
    "scrolled": false
   },
   "outputs": [
    {
     "data": {
      "text/html": [
       "<div>\n",
       "<style scoped>\n",
       "    .dataframe tbody tr th:only-of-type {\n",
       "        vertical-align: middle;\n",
       "    }\n",
       "\n",
       "    .dataframe tbody tr th {\n",
       "        vertical-align: top;\n",
       "    }\n",
       "\n",
       "    .dataframe thead th {\n",
       "        text-align: right;\n",
       "    }\n",
       "</style>\n",
       "<table border=\"1\" class=\"dataframe\">\n",
       "  <thead>\n",
       "    <tr style=\"text-align: right;\">\n",
       "      <th></th>\n",
       "      <th>score-1</th>\n",
       "      <th>score-2</th>\n",
       "      <th>label</th>\n",
       "    </tr>\n",
       "  </thead>\n",
       "  <tbody>\n",
       "    <tr>\n",
       "      <th>95</th>\n",
       "      <td>83.489163</td>\n",
       "      <td>48.380286</td>\n",
       "      <td>1</td>\n",
       "    </tr>\n",
       "    <tr>\n",
       "      <th>96</th>\n",
       "      <td>42.261701</td>\n",
       "      <td>87.103851</td>\n",
       "      <td>1</td>\n",
       "    </tr>\n",
       "    <tr>\n",
       "      <th>97</th>\n",
       "      <td>99.315009</td>\n",
       "      <td>68.775409</td>\n",
       "      <td>1</td>\n",
       "    </tr>\n",
       "    <tr>\n",
       "      <th>98</th>\n",
       "      <td>55.340018</td>\n",
       "      <td>64.931938</td>\n",
       "      <td>1</td>\n",
       "    </tr>\n",
       "    <tr>\n",
       "      <th>99</th>\n",
       "      <td>74.775893</td>\n",
       "      <td>89.529813</td>\n",
       "      <td>1</td>\n",
       "    </tr>\n",
       "  </tbody>\n",
       "</table>\n",
       "</div>"
      ],
      "text/plain": [
       "      score-1    score-2  label\n",
       "95  83.489163  48.380286      1\n",
       "96  42.261701  87.103851      1\n",
       "97  99.315009  68.775409      1\n",
       "98  55.340018  64.931938      1\n",
       "99  74.775893  89.529813      1"
      ]
     },
     "execution_count": 5,
     "metadata": {},
     "output_type": "execute_result"
    }
   ],
   "source": [
    "data.tail()"
   ]
  },
  {
   "cell_type": "code",
   "execution_count": 6,
   "metadata": {},
   "outputs": [
    {
     "name": "stdout",
     "output_type": "stream",
     "text": [
      "<class 'pandas.core.frame.DataFrame'>\n",
      "RangeIndex: 100 entries, 0 to 99\n",
      "Data columns (total 3 columns):\n",
      " #   Column   Non-Null Count  Dtype  \n",
      "---  ------   --------------  -----  \n",
      " 0   score-1  100 non-null    float64\n",
      " 1   score-2  100 non-null    float64\n",
      " 2   label    100 non-null    int64  \n",
      "dtypes: float64(2), int64(1)\n",
      "memory usage: 2.5 KB\n"
     ]
    }
   ],
   "source": [
    "data.info()"
   ]
  },
  {
   "cell_type": "markdown",
   "metadata": {},
   "source": [
    "## Función de coste"
   ]
  },
  {
   "cell_type": "markdown",
   "metadata": {},
   "source": [
    "<img src= \"../img/f_coste.PNG\">"
   ]
  },
  {
   "cell_type": "markdown",
   "metadata": {},
   "source": [
    "## Derivada de la función de coste "
   ]
  },
  {
   "cell_type": "markdown",
   "metadata": {},
   "source": [
    "<img src= \"../img/derivada_f_coste.PNG\">"
   ]
  },
  {
   "cell_type": "markdown",
   "metadata": {},
   "source": [
    "## Ecuacion para Descenso de Gradiente"
   ]
  },
  {
   "cell_type": "markdown",
   "metadata": {},
   "source": [
    "<img src = \"../img/desc_grad.PNG\">"
   ]
  },
  {
   "cell_type": "code",
   "execution_count": 7,
   "metadata": {},
   "outputs": [],
   "source": [
    "#Se crean dos matrices, una para los valores de scores y otra para los valores de results.\n",
    "scores = data[['score-1', 'score-2']].values\n",
    "results = data['label'].values"
   ]
  },
  {
   "cell_type": "code",
   "execution_count": 43,
   "metadata": {},
   "outputs": [
    {
     "data": {
      "image/png": "[encoded data removed]",
      "text/plain": [
       "<Figure size 432x288 with 1 Axes>"
      ]
     },
     "metadata": {
      "needs_background": "light"
     },
     "output_type": "display_data"
    }
   ],
   "source": [
    "passed = (results == 1).reshape(100, 1)\n",
    "failed = (results == 0).reshape(100, 1)\n",
    "\n",
    "ax = sns.scatterplot(x = scores[passed[:, 0], 0],\n",
    "                     y = scores[passed[:, 0], 1],\n",
    "                     marker = \"^\",\n",
    "                     color = \"green\",\n",
    "                     s = 60)\n",
    "sns.scatterplot(x = scores[failed[:, 0], 0],\n",
    "                y = scores[failed[:, 0], 1],\n",
    "                marker = \"X\",\n",
    "                color = \"red\",\n",
    "                s = 60)\n",
    "\n",
    "ax.set(xlabel=\"DMV Written Test 1 Scores\", ylabel=\"DMV Written Test 2 Scores\")\n",
    "ax.legend([\"Passed\", \"Failed\"])\n",
    "plt.show();"
   ]
  },
  {
   "cell_type": "markdown",
   "metadata": {},
   "source": [
    "Definimos la función sigmoide"
   ]
  },
  {
   "cell_type": "code",
   "execution_count": 148,
   "metadata": {},
   "outputs": [],
   "source": [
    "def logistic_function(x):\n",
    "    return 1 / (1 + np.exp(-x))  #Se realiza ya que se trata de una función que da valores 1 o 0"
   ]
  },
  {
   "cell_type": "code",
   "execution_count": 45,
   "metadata": {
    "scrolled": true
   },
   "outputs": [
    {
     "data": {
      "image/png": "[encoded data removed]",
      "text/plain": [
       "<Figure size 432x288 with 1 Axes>"
      ]
     },
     "metadata": {
      "needs_background": "light"
     },
     "output_type": "display_data"
    }
   ],
   "source": [
    "x = np.arange(-5, 5, 0.01)\n",
    "y = sigmoid(x)\n",
    "plt.plot(x, y)\n",
    "plt.show()"
   ]
  },
  {
   "cell_type": "markdown",
   "metadata": {},
   "source": [
    "## Definición de la función de costes"
   ]
  },
  {
   "cell_type": "code",
   "execution_count": 38,
   "metadata": {},
   "outputs": [],
   "source": [
    "def compute_cost(theta, x, y):\n",
    "    m = len(y)\n",
    "    y_pred = logistic_function(np.dot(x , theta))\n",
    "    error = (y * np.log(y_pred)) + ((1 - y) * np.log(1 - y_pred))\n",
    "    cost = -1 / m * sum(error)\n",
    "    gradient = 1 / m * np.dot(x.transpose(), (y_pred - y))\n",
    "    return cost[0] , gradient"
   ]
  },
  {
   "cell_type": "markdown",
   "metadata": {},
   "source": [
    "## Inicialización del coste y el gradiente "
   ]
  },
  {
   "cell_type": "code",
   "execution_count": 108,
   "metadata": {},
   "outputs": [
    {
     "name": "stdout",
     "output_type": "stream",
     "text": [
      "Cost at initialization 0.693147180559946\n",
      "Gradient at initialization: [[-0.1       ]\n",
      " [-0.28122914]\n",
      " [-0.25098615]]\n"
     ]
    }
   ],
   "source": [
    "mean_scores = np.mean(scores, axis=0)\n",
    "std_scores = np.std(scores, axis=0)\n",
    "scores = (scores - mean_scores) / std_scores #standardization\n",
    "\n",
    "rows = scores.shape[0]\n",
    "cols = scores.shape[1]\n",
    "\n",
    "X = np.append(np.ones((rows, 1)), scores, axis=1) #include intercept\n",
    "y = results.reshape(rows, 1)\n",
    "\n",
    "theta_init = np.zeros((cols + 1, 1))\n",
    "cost, gradient = compute_cost(theta_init, X, y)\n",
    "\n",
    "print(\"Cost at initialization\", cost)\n",
    "print(\"Gradient at initialization:\", gradient)"
   ]
  },
  {
   "cell_type": "code",
   "execution_count": 40,
   "metadata": {},
   "outputs": [],
   "source": [
    "def gradient_descent(x, y, theta, alpha, iterations):\n",
    "    costs = []\n",
    "    for i in range(iterations):\n",
    "        cost, gradient = compute_cost(theta, x, y)\n",
    "        theta -= (alpha * gradient)\n",
    "        costs.append(cost)\n",
    "    return theta, costs"
   ]
  },
  {
   "cell_type": "markdown",
   "metadata": {},
   "source": [
    "## Gráfica del descenso del gradiente"
   ]
  },
  {
   "cell_type": "markdown",
   "metadata": {},
   "source": [
    "### Términos básicos\n",
    " - Size of Steps took in any direction = Learning rate\n",
    " - Gadget tells you height = Cost function\n",
    " - The direction of your steps = Gradients"
   ]
  },
  {
   "cell_type": "code",
   "execution_count": 109,
   "metadata": {
    "scrolled": true
   },
   "outputs": [
    {
     "name": "stdout",
     "output_type": "stream",
     "text": [
      "Theta after running gradient descent: [[1.50850586]\n",
      " [3.5468762 ]\n",
      " [3.29383709]]\n",
      "Resulting cost: 0.2048938203603661\n"
     ]
    }
   ],
   "source": [
    "theta, costs = gradient_descent(X, y, theta_init, alpha = 1, iterations = 200)\n",
    "print(\"Theta after running gradient descent:\", theta)\n",
    "print(\"Resulting cost:\", costs[-1])"
   ]
  },
  {
   "cell_type": "code",
   "execution_count": 110,
   "metadata": {
    "scrolled": false
   },
   "outputs": [
    {
     "data": {
      "image/png": "[encoded data removed]",
      "text/plain": [
       "<Figure size 432x288 with 1 Axes>"
      ]
     },
     "metadata": {
      "needs_background": "light"
     },
     "output_type": "display_data"
    }
   ],
   "source": [
    "plt.plot(costs)\n",
    "plt.xlabel(\"Iterations\")\n",
    "plt.ylabel(\"$J(\\Theta)$\")\n",
    "plt.title(\"Values of Cost Function over iterations of Gradient Descent\");"
   ]
  },
  {
   "cell_type": "markdown",
   "metadata": {},
   "source": [
    "Para un ratio de aprendizaje de 1, se observa que aproximadamente necesita unas 100 iteracciones en los pasos que da la función del descenso del gradiente para minimizar el coste de la función. Para ello se podría reducir el número de iteracciones a 150 para que computacionalmente sea más ligero."
   ]
  },
  {
   "cell_type": "markdown",
   "metadata": {},
   "source": [
    "### Descenso del gradiente con un menor alpha."
   ]
  },
  {
   "cell_type": "code",
   "execution_count": 104,
   "metadata": {},
   "outputs": [
    {
     "name": "stdout",
     "output_type": "stream",
     "text": [
      "Cost at initialization 0.693147180559946\n",
      "Gradient at initialization: [[-0.1       ]\n",
      " [-0.28122914]\n",
      " [-0.25098615]]\n"
     ]
    }
   ],
   "source": [
    "mean_scores = np.mean(scores, axis=0)\n",
    "std_scores = np.std(scores, axis=0)\n",
    "scores = (scores - mean_scores) / std_scores #standardization\n",
    "\n",
    "rows = scores.shape[0]\n",
    "cols = scores.shape[1]\n",
    "\n",
    "X = np.append(np.ones((rows, 1)), scores, axis=1) #include intercept\n",
    "y = results.reshape(rows, 1)\n",
    "\n",
    "theta_init = np.zeros((cols + 1, 1))\n",
    "cost, gradient = compute_cost(theta_init, X, y)\n",
    "\n",
    "print(\"Cost at initialization\", cost)\n",
    "print(\"Gradient at initialization:\", gradient)"
   ]
  },
  {
   "cell_type": "code",
   "execution_count": 105,
   "metadata": {},
   "outputs": [],
   "source": [
    "theta, costs = gradient_descent(X, y, theta_init, alpha = 0.01, iterations = 10000)\n",
    "print(\"Theta after running gradient descent:\", theta)\n",
    "print(\"Resulting cost:\", costs[-1])"
   ]
  },
  {
   "cell_type": "code",
   "execution_count": 107,
   "metadata": {
    "scrolled": true
   },
   "outputs": [
    {
     "data": {
      "image/png": "[encoded data removed]",
      "text/plain": [
       "<Figure size 432x288 with 1 Axes>"
      ]
     },
     "metadata": {
      "needs_background": "light"
     },
     "output_type": "display_data"
    }
   ],
   "source": [
    "plt.plot(costs)\n",
    "plt.xlabel(\"Iterations\")\n",
    "plt.ylabel(\"$J(\\Theta)$\")\n",
    "plt.title(\"Values of Cost Function over iterations of Gradient Descent\");"
   ]
  },
  {
   "cell_type": "markdown",
   "metadata": {},
   "source": [
    "Ante un menor ratio de aprendizaje, se observa que se necesitan muchas más iteracciones en la minimización de la función de costes para poder llegar al mínimo. Esto es debido a que al ser pasos más pequeños los que da para llegar al mínimo, necesita más iteracciones, por lo que computacionalmente es más costoso."
   ]
  },
  {
   "cell_type": "markdown",
   "metadata": {},
   "source": [
    "### Descenso del gradiente para un alpha mayor"
   ]
  },
  {
   "cell_type": "code",
   "execution_count": 136,
   "metadata": {},
   "outputs": [
    {
     "name": "stdout",
     "output_type": "stream",
     "text": [
      "Cost at initialization 0.693147180559946\n",
      "Gradient at initialization: [[-0.1       ]\n",
      " [-0.28122914]\n",
      " [-0.25098615]]\n"
     ]
    }
   ],
   "source": [
    "mean_scores = np.mean(scores, axis=0)\n",
    "std_scores = np.std(scores, axis=0)\n",
    "scores = (scores - mean_scores) / std_scores #standardization\n",
    "\n",
    "rows = scores.shape[0]\n",
    "cols = scores.shape[1]\n",
    "\n",
    "X = np.append(np.ones((rows, 1)), scores, axis=1) #include intercept\n",
    "y = results.reshape(rows, 1)\n",
    "\n",
    "theta_init = np.zeros((cols + 1, 1))\n",
    "cost, gradient = compute_cost(theta_init, X, y)\n",
    "\n",
    "print(\"Cost at initialization\", cost)\n",
    "print(\"Gradient at initialization:\", gradient)"
   ]
  },
  {
   "cell_type": "code",
   "execution_count": 137,
   "metadata": {},
   "outputs": [
    {
     "name": "stdout",
     "output_type": "stream",
     "text": [
      "Theta after running gradient descent: [[2.01128429]\n",
      " [4.62253756]\n",
      " [4.33548125]]\n",
      "Resulting cost: 0.20610951535920893\n"
     ]
    }
   ],
   "source": [
    "theta, costs = gradient_descent(X, y, theta_init, alpha = 20, iterations = 10)\n",
    "print(\"Theta after running gradient descent:\", theta)\n",
    "print(\"Resulting cost:\", costs[-1])"
   ]
  },
  {
   "cell_type": "code",
   "execution_count": 138,
   "metadata": {},
   "outputs": [
    {
     "data": {
      "image/png": "[encoded data removed]",
      "text/plain": [
       "<Figure size 432x288 with 1 Axes>"
      ]
     },
     "metadata": {
      "needs_background": "light"
     },
     "output_type": "display_data"
    }
   ],
   "source": [
    "plt.plot(costs)\n",
    "plt.xlabel(\"Iterations\")\n",
    "plt.ylabel(\"$J(\\Theta)$\")\n",
    "plt.title(\"Values of Cost Function over iterations of Gradient Descent\");"
   ]
  },
  {
   "cell_type": "markdown",
   "metadata": {},
   "source": [
    "Para un ratio de aprendizaje mayor, en este caso de 20, se observa que se necesitan muchas menos iteracciones para llegar al mínimo de la función de costes. En este caso, se puede decir que estos valores de alpha y de iteracciones es más óptimo ya que computacionalmente tardará menos, pero hay que tener cuidado ya que si te pasas con el ratio de aprendizaje, puedes generar que no encuentre nunca el mínimo ya que los \"pasos\" que da la función del descenso del gradiente van a ir dando \"tumbos\" sin encontrar el púnto mínimo."
   ]
  },
  {
   "cell_type": "markdown",
   "metadata": {},
   "source": [
    "### Descenso del gradiente para un alpha demasiado grande"
   ]
  },
  {
   "cell_type": "code",
   "execution_count": 133,
   "metadata": {
    "scrolled": true
   },
   "outputs": [
    {
     "name": "stdout",
     "output_type": "stream",
     "text": [
      "Cost at initialization 0.693147180559946\n",
      "Gradient at initialization: [[-0.1       ]\n",
      " [-0.28122914]\n",
      " [-0.25098615]]\n"
     ]
    }
   ],
   "source": [
    "mean_scores = np.mean(scores, axis=0)\n",
    "std_scores = np.std(scores, axis=0)\n",
    "scores = (scores - mean_scores) / std_scores #standardization\n",
    "\n",
    "rows = scores.shape[0]\n",
    "cols = scores.shape[1]\n",
    "\n",
    "X = np.append(np.ones((rows, 1)), scores, axis=1) #include intercept\n",
    "y = results.reshape(rows, 1)\n",
    "\n",
    "theta_init = np.zeros((cols + 1, 1))\n",
    "cost, gradient = compute_cost(theta_init, X, y)\n",
    "\n",
    "print(\"Cost at initialization\", cost)\n",
    "print(\"Gradient at initialization:\", gradient)"
   ]
  },
  {
   "cell_type": "code",
   "execution_count": 134,
   "metadata": {},
   "outputs": [
    {
     "name": "stdout",
     "output_type": "stream",
     "text": [
      "Theta after running gradient descent: [[ 4.13248129]\n",
      " [ 9.40549494]\n",
      " [10.34662687]]\n",
      "Resulting cost: 0.3706193609337323\n"
     ]
    },
    {
     "name": "stderr",
     "output_type": "stream",
     "text": [
      "<ipython-input-38-f90cc1853420>:4: RuntimeWarning: divide by zero encountered in log\n",
      "  error = (y * np.log(y_pred)) + ((1 - y) * np.log(1 - y_pred))\n",
      "<ipython-input-38-f90cc1853420>:4: RuntimeWarning: invalid value encountered in multiply\n",
      "  error = (y * np.log(y_pred)) + ((1 - y) * np.log(1 - y_pred))\n"
     ]
    }
   ],
   "source": [
    "theta, costs = gradient_descent(X, y, theta_init, alpha = 50, iterations = 200)\n",
    "print(\"Theta after running gradient descent:\", theta)\n",
    "print(\"Resulting cost:\", costs[-1])"
   ]
  },
  {
   "cell_type": "code",
   "execution_count": 135,
   "metadata": {},
   "outputs": [
    {
     "data": {
      "image/png": "[encoded data removed]",
      "text/plain": [
       "<Figure size 432x288 with 1 Axes>"
      ]
     },
     "metadata": {
      "needs_background": "light"
     },
     "output_type": "display_data"
    }
   ],
   "source": [
    "plt.plot(costs)\n",
    "plt.xlabel(\"Iterations\")\n",
    "plt.ylabel(\"$J(\\Theta)$\")\n",
    "plt.title(\"Values of Cost Function over iterations of Gradient Descent\");"
   ]
  },
  {
   "cell_type": "markdown",
   "metadata": {},
   "source": [
    "En este caso se puede observar como al aumentar excesivamente el valor del ratio de aprendizaje, los valores de la función de costes no encuentran un punto mínimo, ya que los pasos que da son demasiado grandes, y cuando se encuentra con un gradiente de pendiente negativa que le indica que debe seguir bajando, al siguiente paso se encuentra con un gradiente de pendiente positiva, que le muestra que se ha pasado del punto mínimo, a lo que vuelve hacia atras de nuevo pero al ser un paso tan grande, se vuelve a pasar del punto mínimo, y así consecutivamente.\n",
    "\n",
    "Esto demuestra que el riesgo de aumentar el valor del ratio de aprendizaje para una coste de computación menor no tiene sentido, ya que la diferencia entre 10 iteracciones y 200 iteracciones no varía mucho el tiempo de carga para el ordenador, por lo que es mejor buscar un valor medio con un mayor número de iteracciones para así no arriesgarse a tener un error en la búsqueda del mínimo coste de la función."
   ]
  },
  {
   "cell_type": "markdown",
   "metadata": {},
   "source": [
    "### Descenso del gradiente para un alpha mayor"
   ]
  },
  {
   "cell_type": "code",
   "execution_count": 139,
   "metadata": {},
   "outputs": [
    {
     "name": "stdout",
     "output_type": "stream",
     "text": [
      "Cost at initialization 0.693147180559946\n",
      "Gradient at initialization: [[-0.1       ]\n",
      " [-0.28122914]\n",
      " [-0.25098615]]\n"
     ]
    }
   ],
   "source": [
    "mean_scores = np.mean(scores, axis=0)\n",
    "std_scores = np.std(scores, axis=0)\n",
    "scores = (scores - mean_scores) / std_scores #standardization\n",
    "\n",
    "rows = scores.shape[0]\n",
    "cols = scores.shape[1]\n",
    "\n",
    "X = np.append(np.ones((rows, 1)), scores, axis=1) #include intercept\n",
    "y = results.reshape(rows, 1)\n",
    "\n",
    "theta_init = np.zeros((cols + 1, 1))\n",
    "cost, gradient = compute_cost(theta_init, X, y)\n",
    "\n",
    "print(\"Cost at initialization\", cost)\n",
    "print(\"Gradient at initialization:\", gradient)"
   ]
  },
  {
   "cell_type": "code",
   "execution_count": 140,
   "metadata": {},
   "outputs": [
    {
     "name": "stdout",
     "output_type": "stream",
     "text": [
      "Theta after running gradient descent: [[1.71844426]\n",
      " [3.99277645]\n",
      " [3.72512571]]\n",
      "Resulting cost: 0.2034977015995303\n"
     ]
    }
   ],
   "source": [
    "theta, costs = gradient_descent(X, y, theta_init, alpha = 1, iterations = 2000)\n",
    "print(\"Theta after running gradient descent:\", theta)\n",
    "print(\"Resulting cost:\", costs[-1])"
   ]
  },
  {
   "cell_type": "code",
   "execution_count": 141,
   "metadata": {},
   "outputs": [
    {
     "data": {
      "image/png": "[encoded data removed]",
      "text/plain": [
       "<Figure size 432x288 with 1 Axes>"
      ]
     },
     "metadata": {
      "needs_background": "light"
     },
     "output_type": "display_data"
    }
   ],
   "source": [
    "plt.plot(costs)\n",
    "plt.xlabel(\"Iterations\")\n",
    "plt.ylabel(\"$J(\\Theta)$\")\n",
    "plt.title(\"Values of Cost Function over iterations of Gradient Descent\");"
   ]
  },
  {
   "cell_type": "markdown",
   "metadata": {},
   "source": [
    "Para un número mayor de iteracciones en la función, el coste computacional aumenta y, en este caso, no tiene sentido ya que alcanza el mínimo aproximadamente sobre las 100 iteracciones.\n",
    "Las iteracciones tienen que ir a la par con el ratio de aprendizaje que le asociemos, a menor ratio de aprendizaje necesitará de más iteracciones para alcanzar el mínimo, aumentando el coste computacional.\n",
    "A mayor ratio de aprendizaje se necesita de menos iteracciones para alcanzar el mínimo, siempre teniendo en cuenta el riesgo que se corre de no encontrar nunca el mínimo coste."
   ]
  },
  {
   "cell_type": "markdown",
   "metadata": {},
   "source": [
    "### Bajas iteracciones para un bajo alpha"
   ]
  },
  {
   "cell_type": "code",
   "execution_count": 145,
   "metadata": {},
   "outputs": [
    {
     "name": "stdout",
     "output_type": "stream",
     "text": [
      "Cost at initialization 0.693147180559946\n",
      "Gradient at initialization: [[-0.1       ]\n",
      " [-0.28122914]\n",
      " [-0.25098615]]\n"
     ]
    }
   ],
   "source": [
    "mean_scores = np.mean(scores, axis=0)\n",
    "std_scores = np.std(scores, axis=0)\n",
    "scores = (scores - mean_scores) / std_scores #standardization\n",
    "\n",
    "rows = scores.shape[0]\n",
    "cols = scores.shape[1]\n",
    "\n",
    "X = np.append(np.ones((rows, 1)), scores, axis=1) #include intercept\n",
    "y = results.reshape(rows, 1)\n",
    "\n",
    "theta_init = np.zeros((cols + 1, 1))\n",
    "cost, gradient = compute_cost(theta_init, X, y)\n",
    "\n",
    "print(\"Cost at initialization\", cost)\n",
    "print(\"Gradient at initialization:\", gradient)"
   ]
  },
  {
   "cell_type": "code",
   "execution_count": 146,
   "metadata": {
    "scrolled": true
   },
   "outputs": [
    {
     "name": "stdout",
     "output_type": "stream",
     "text": [
      "Theta after running gradient descent: [[0.30987381]\n",
      " [0.86999601]\n",
      " [0.77818169]]\n",
      "Resulting cost: 0.38381057469457497\n"
     ]
    }
   ],
   "source": [
    "theta, costs = gradient_descent(X, y, theta_init, alpha = 0.1, iterations = 50)\n",
    "print(\"Theta after running gradient descent:\", theta)\n",
    "print(\"Resulting cost:\", costs[-1])"
   ]
  },
  {
   "cell_type": "code",
   "execution_count": 147,
   "metadata": {},
   "outputs": [
    {
     "data": {
      "image/png": "[encoded data removed]",
      "text/plain": [
       "<Figure size 432x288 with 1 Axes>"
      ]
     },
     "metadata": {
      "needs_background": "light"
     },
     "output_type": "display_data"
    }
   ],
   "source": [
    "plt.plot(costs)\n",
    "plt.xlabel(\"Iterations\")\n",
    "plt.ylabel(\"$J(\\Theta)$\")\n",
    "plt.title(\"Values of Cost Function over iterations of Gradient Descent\");"
   ]
  },
  {
   "cell_type": "markdown",
   "metadata": {},
   "source": [
    "Se observa como para un alpha bajo y unas iteracciones bajas, no alcanza el mínimo, ya que le indicamos que pare a las 50 iteracciones y no es suficiente para ese ratio de aprendizaje estipulado para alcanzar el mínimo."
   ]
  },
  {
   "cell_type": "markdown",
   "metadata": {},
   "source": [
    "# Referencias"
   ]
  },
  {
   "cell_type": "markdown",
   "metadata": {},
   "source": [
    " - https://towardsdatascience.com/gradient-descent-in-python-a0d07285742f\n",
    " - https://github.com/lmntrixsid/Linear-and-Logistic-Regression-with-NumPy-and-Python/blob/master/Logistic_Regression_Completed.ipynb\n",
    " - https://www.pakin.lat/machine-learning-regresion-lineal-ecuacion-normal-descenso-gradiente-python"
   ]
  }
 ],
 "metadata": {
  "kernelspec": {
   "display_name": "gradient_env",
   "language": "python",
   "name": "gradient_env"
  },
  "language_info": {
   "codemirror_mode": {
    "name": "ipython",
    "version": 3
   },
   "file_extension": ".py",
   "mimetype": "text/x-python",
   "name": "python",
   "nbconvert_exporter": "python",
   "pygments_lexer": "ipython3",
   "version": "3.8.5"
  }
 },
 "nbformat": 4,
 "nbformat_minor": 4
}
